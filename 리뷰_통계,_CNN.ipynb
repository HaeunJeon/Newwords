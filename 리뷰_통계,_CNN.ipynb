{
  "cells": [
    {
      "cell_type": "markdown",
      "metadata": {
        "id": "view-in-github",
        "colab_type": "text"
      },
      "source": [
        "<a href=\"https://colab.research.google.com/github/HaeunJeon/Newwords/blob/main/%EB%A6%AC%EB%B7%B0_%ED%86%B5%EA%B3%84%2C_CNN.ipynb\" target=\"_parent\"><img src=\"https://colab.research.google.com/assets/colab-badge.svg\" alt=\"Open In Colab\"/></a>"
      ]
    },
    {
      "cell_type": "code",
      "execution_count": null,
      "id": "020397cc",
      "metadata": {
        "id": "020397cc"
      },
      "outputs": [],
      "source": [
        "# 필요 모듈 임포트\n",
        "import numpy as np\n",
        "import pandas as pd\n",
        "import os\n",
        "import matplotlib.pyplot as plt\n",
        "import seaborn as sns\n",
        "from wordcloud import WordCloud\n",
        "%matplotlib inline"
      ]
    },
    {
      "cell_type": "code",
      "execution_count": null,
      "id": "6580af35",
      "metadata": {
        "id": "6580af35",
        "outputId": "ebdcfeba-5a7c-4ced-95ec-9b8f02685137"
      },
      "outputs": [
        {
          "name": "stdout",
          "output_type": "stream",
          "text": [
            "파일 크기 : \n",
            "ratings_test.txt              4.89MB\n",
            "ratings.txt                   19.52MB\n",
            "ratings_train.txt             14.63MB\n"
          ]
        }
      ],
      "source": [
        "# 데이터 경로 확인 및 파일 크기 확인\n",
        "DATA_IN_PATH = '/Users/hyeon/workspace/'\n",
        "print('파일 크기 : ')\n",
        "for file in os.listdir(DATA_IN_PATH):\n",
        "    if 'txt' in file:\n",
        "        print(file.ljust(30) + str(round(os.path.getsize(DATA_IN_PATH + file) / 1000000, 2)) + 'MB')"
      ]
    },
    {
      "cell_type": "code",
      "execution_count": null,
      "id": "0e55558e",
      "metadata": {
        "id": "0e55558e",
        "outputId": "349dbb89-8a71-4e4b-9856-ae95494130de"
      },
      "outputs": [
        {
          "data": {
            "text/html": [
              "<div>\n",
              "<style scoped>\n",
              "    .dataframe tbody tr th:only-of-type {\n",
              "        vertical-align: middle;\n",
              "    }\n",
              "\n",
              "    .dataframe tbody tr th {\n",
              "        vertical-align: top;\n",
              "    }\n",
              "\n",
              "    .dataframe thead th {\n",
              "        text-align: right;\n",
              "    }\n",
              "</style>\n",
              "<table border=\"1\" class=\"dataframe\">\n",
              "  <thead>\n",
              "    <tr style=\"text-align: right;\">\n",
              "      <th></th>\n",
              "      <th>id</th>\n",
              "      <th>document</th>\n",
              "      <th>label</th>\n",
              "    </tr>\n",
              "  </thead>\n",
              "  <tbody>\n",
              "    <tr>\n",
              "      <th>0</th>\n",
              "      <td>9976970</td>\n",
              "      <td>아 더빙.. 진짜 짜증나네요 목소리</td>\n",
              "      <td>0</td>\n",
              "    </tr>\n",
              "    <tr>\n",
              "      <th>1</th>\n",
              "      <td>3819312</td>\n",
              "      <td>흠...포스터보고 초딩영화줄....오버연기조차 가볍지 않구나</td>\n",
              "      <td>1</td>\n",
              "    </tr>\n",
              "    <tr>\n",
              "      <th>2</th>\n",
              "      <td>10265843</td>\n",
              "      <td>너무재밓었다그래서보는것을추천한다</td>\n",
              "      <td>0</td>\n",
              "    </tr>\n",
              "    <tr>\n",
              "      <th>3</th>\n",
              "      <td>9045019</td>\n",
              "      <td>교도소 이야기구먼 ..솔직히 재미는 없다..평점 조정</td>\n",
              "      <td>0</td>\n",
              "    </tr>\n",
              "    <tr>\n",
              "      <th>4</th>\n",
              "      <td>6483659</td>\n",
              "      <td>사이몬페그의 익살스런 연기가 돋보였던 영화!스파이더맨에서 늙어보이기만 했던 커스틴 ...</td>\n",
              "      <td>1</td>\n",
              "    </tr>\n",
              "  </tbody>\n",
              "</table>\n",
              "</div>"
            ],
            "text/plain": [
              "         id                                           document  label\n",
              "0   9976970                                아 더빙.. 진짜 짜증나네요 목소리      0\n",
              "1   3819312                  흠...포스터보고 초딩영화줄....오버연기조차 가볍지 않구나      1\n",
              "2  10265843                                  너무재밓었다그래서보는것을추천한다      0\n",
              "3   9045019                      교도소 이야기구먼 ..솔직히 재미는 없다..평점 조정      0\n",
              "4   6483659  사이몬페그의 익살스런 연기가 돋보였던 영화!스파이더맨에서 늙어보이기만 했던 커스틴 ...      1"
            ]
          },
          "execution_count": 3,
          "metadata": {},
          "output_type": "execute_result"
        }
      ],
      "source": [
        "# 학습데이터 판다스로 올리기, 학습데이터 확인\n",
        "train_data = pd.read_csv(DATA_IN_PATH + 'ratings_train.txt', header = 0, delimiter = '\\t', quoting = 3)\n",
        "train_data.head()"
      ]
    },
    {
      "cell_type": "code",
      "execution_count": null,
      "id": "91940d2e",
      "metadata": {
        "id": "91940d2e",
        "outputId": "356709d1-b09d-446b-9a3f-237a5c940b02"
      },
      "outputs": [
        {
          "name": "stdout",
          "output_type": "stream",
          "text": [
            "전체 학습 데이터의 개수 : 150000\n"
          ]
        }
      ],
      "source": [
        "# 데이터 개수 확인\n",
        "print('전체 학습 데이터의 개수 : {}'.format(len(train_data)))"
      ]
    },
    {
      "cell_type": "code",
      "execution_count": null,
      "id": "a8ea1e9e",
      "metadata": {
        "id": "a8ea1e9e",
        "outputId": "3f52ff2a-aebc-40be-b960-6290d44a1b49"
      },
      "outputs": [
        {
          "data": {
            "text/plain": [
              "0    19\n",
              "1    33\n",
              "2    17\n",
              "3    29\n",
              "4    61\n",
              "Name: document, dtype: int64"
            ]
          },
          "execution_count": 5,
          "metadata": {},
          "output_type": "execute_result"
        }
      ],
      "source": [
        "# 데이터 길이 확인\n",
        "train_length = train_data['document'].astype(str).apply(len)\n",
        "train_length.head()"
      ]
    },
    {
      "cell_type": "code",
      "execution_count": null,
      "id": "b6e29959",
      "metadata": {
        "id": "b6e29959",
        "outputId": "0d872ae4-4aa8-4414-c7af-00fd84fcc266"
      },
      "outputs": [
        {
          "name": "stderr",
          "output_type": "stream",
          "text": [
            "<ipython-input-6-ff30bee78466>:14: MatplotlibDeprecationWarning: The 'nonposy' parameter of __init__() has been renamed 'nonpositive' since Matplotlib 3.3; support for the old name will be dropped two minor releases later.\n",
            "  plt.yscale('log', nonposy = 'clip')\n"
          ]
        },
        {
          "data": {
            "text/plain": [
              "Text(0, 0.5, 'Number of review')"
            ]
          },
          "execution_count": 6,
          "metadata": {},
          "output_type": "execute_result"
        },
        {
          "data": {
            "image/png": "[encoded data removed]",
            "text/plain": [
              "<Figure size 864x360 with 1 Axes>"
            ]
          },
          "metadata": {
            "needs_background": "light"
          },
          "output_type": "display_data"
        }
      ],
      "source": [
        "# 데이터 길이 그래프로 확인하기\n",
        "\n",
        "# 그래프에 대한 이미지 크기 선언\n",
        "# figsize: (가로, 세로) 형태의 튜플로 입력\n",
        "plt.figure(figsize = (12, 5))\n",
        "\n",
        "# 히스토그램 선언\n",
        "# bins: 히스토그램 값에 대한 버킷 범위\n",
        "# range: x축 값의 범위\n",
        "# alpha: 그래프 색상 투명도\n",
        "# color: 그래프 색상\n",
        "# label: 그래프에 대한 라벨\n",
        "plt.hist(train_length, bins = 200, alpha = 0.5, color = 'r', label = 'word')\n",
        "plt.yscale('log', nonposy = 'clip')\n",
        "\n",
        "# 그래프 제목\n",
        "plt.title('Log-Histogram of length of review')\n",
        "\n",
        "# 그래프 x축 라벨\n",
        "plt.xlabel('Length of review')\n",
        "\n",
        "# 그래프 y축 라벨\n",
        "plt.ylabel('Number of review')"
      ]
    },
    {
      "cell_type": "code",
      "execution_count": null,
      "id": "4d6cdaff",
      "metadata": {
        "id": "4d6cdaff",
        "outputId": "9525f0dc-6e33-4fcd-d06c-d9716db193c9"
      },
      "outputs": [
        {
          "name": "stdout",
          "output_type": "stream",
          "text": [
            "리뷰 길이 최댓값: 158\n",
            "리뷰 길이 최솟값: 1\n",
            "리뷰 길이 평균값: 35.24\n",
            "리뷰 길이 표준편차: 29.58\n",
            "리뷰 길이 중간값: 27.0\n",
            "리뷰 길이 제1사분위:16.0\n",
            "리뷰 길이 제4사분위: 42.0\n"
          ]
        }
      ],
      "source": [
        "# 테이터 길이 통계치로 확인\n",
        "print('리뷰 길이 최댓값: {}'.format(np.max(train_length)))\n",
        "print('리뷰 길이 최솟값: {}'.format(np.min(train_length)))\n",
        "print('리뷰 길이 평균값: {:.2f}'.format(np.mean(train_length)))\n",
        "print('리뷰 길이 표준편차: {:.2f}'.format(np.std(train_length)))\n",
        "print('리뷰 길이 중간값: {}'.format(np.median(train_length)))\n",
        "\n",
        "# 4분위의 경우 0-100 스케일로 되어있음\n",
        "print('리뷰 길이 제1사분위:{}'.format(np.percentile(train_length, 25)))\n",
        "print('리뷰 길이 제4사분위: {}'.format(np.percentile(train_length, 75)))"
      ]
    },
    {
      "cell_type": "code",
      "execution_count": null,
      "id": "7c20ab23",
      "metadata": {
        "id": "7c20ab23",
        "outputId": "e1be88be-9706-401b-ba55-3e102f1378f9"
      },
      "outputs": [
        {
          "data": {
            "text/plain": [
              "{'whiskers': [<matplotlib.lines.Line2D at 0x7fcfe9f58190>,\n",
              "  <matplotlib.lines.Line2D at 0x7fcfe9f584f0>],\n",
              " 'caps': [<matplotlib.lines.Line2D at 0x7fcfe9f58850>,\n",
              "  <matplotlib.lines.Line2D at 0x7fcfe9f58bb0>],\n",
              " 'boxes': [<matplotlib.lines.Line2D at 0x7fcfe9d3adc0>],\n",
              " 'medians': [<matplotlib.lines.Line2D at 0x7fcfe9f58f10>],\n",
              " 'fliers': [<matplotlib.lines.Line2D at 0x7fcfe9f60610>],\n",
              " 'means': [<matplotlib.lines.Line2D at 0x7fcfe9f602b0>]}"
            ]
          },
          "execution_count": 8,
          "metadata": {},
          "output_type": "execute_result"
        },
        {
          "data": {
            "image/png": "[encoded data removed]",
            "text/plain": [
              "<Figure size 864x360 with 1 Axes>"
            ]
          },
          "metadata": {
            "needs_background": "light"
          },
          "output_type": "display_data"
        }
      ],
      "source": [
        "# 데이터 길이 박스플롯\n",
        "plt.figure(figsize = (12, 5))\n",
        "\n",
        "#박스플롯생성\n",
        "#첫번째 파라미터: 여러 분포에 대한 데이터 리스트를 입력\n",
        "#labels: 입력 데이터에 대한 라벨\n",
        "#showmeans: 평균값을 마크함\n",
        "\n",
        "plt.boxplot(train_length,\n",
        "           labels = ['counts'],\n",
        "           showmeans = True)"
      ]
    },
    {
      "cell_type": "code",
      "execution_count": null,
      "id": "12c748b0",
      "metadata": {
        "id": "12c748b0"
      },
      "outputs": [],
      "source": [
        "# 워드클라우드를 활용한 어휘 빈도 분석\n",
        "train_review = [review for review in train_data['document'] if type(review) is str]"
      ]
    },
    {
      "cell_type": "code",
      "execution_count": null,
      "id": "6bee91d3",
      "metadata": {
        "id": "6bee91d3",
        "outputId": "25d81cc5-a688-4beb-b875-5b65b9bf9391"
      },
      "outputs": [
        {
          "data": {
            "image/png": "[encoded data removed]",
            "text/plain": [
              "<Figure size 432x288 with 1 Axes>"
            ]
          },
          "metadata": {
            "needs_background": "light"
          },
          "output_type": "display_data"
        }
      ],
      "source": [
        "# 워드클라우드 생성\n",
        "# 워드클라우드는 영어만 지원해서 글자 깨질 수도 -> 한글폰트하나 다운받아서 path 폴더에 추가\n",
        "wordcloud = WordCloud(font_path = DATA_IN_PATH + 'NanumSquareOTF_acB.otf').generate(' '.join(train_review))\n",
        "\n",
        "plt.imshow(wordcloud, interpolation = 'bilinear')\n",
        "plt.axis('off')\n",
        "plt.show()"
      ]
    },
    {
      "cell_type": "code",
      "execution_count": null,
      "id": "57ed56ae",
      "metadata": {
        "id": "57ed56ae",
        "outputId": "f172e83c-4739-4081-b891-fd8bca60c4d0"
      },
      "outputs": [
        {
          "name": "stderr",
          "output_type": "stream",
          "text": [
            "/opt/anaconda3/lib/python3.8/site-packages/seaborn/_decorators.py:36: FutureWarning: Pass the following variable as a keyword arg: x. From version 0.12, the only valid positional argument will be `data`, and passing other arguments without an explicit keyword will result in an error or misinterpretation.\n",
            "  warnings.warn(\n"
          ]
        },
        {
          "data": {
            "text/plain": [
              "<AxesSubplot:xlabel='label', ylabel='count'>"
            ]
          },
          "execution_count": 11,
          "metadata": {},
          "output_type": "execute_result"
        },
        {
          "data": {
            "image/png": "[encoded data removed]",
            "text/plain": [
              "<Figure size 432x216 with 1 Axes>"
            ]
          },
          "metadata": {
            "needs_background": "light"
          },
          "output_type": "display_data"
        }
      ],
      "source": [
        "# 긍부정을 나타내는 라벨값의 비율 확인\n",
        "fig, axe = plt.subplots(ncols = 1)\n",
        "fig.set_size_inches(6,3)\n",
        "sns.countplot(train_data['label'])"
      ]
    },
    {
      "cell_type": "code",
      "execution_count": null,
      "id": "7d7a9229",
      "metadata": {
        "id": "7d7a9229",
        "outputId": "3b0acde3-e8b7-45b4-c5ad-9feddc3e9169"
      },
      "outputs": [
        {
          "name": "stdout",
          "output_type": "stream",
          "text": [
            "긍정 리뷰 개수: 74827\n",
            "부정 리뷰 개수: 75173\n"
          ]
        }
      ],
      "source": [
        "# 실제로 긍정 부정 리뷰 개수 확인\n",
        "print('긍정 리뷰 개수: {}'.format(train_data['label'].value_counts()[1]))\n",
        "print('부정 리뷰 개수: {}'.format(train_data['label'].value_counts()[0]))"
      ]
    },
    {
      "cell_type": "code",
      "execution_count": null,
      "id": "e278beda",
      "metadata": {
        "id": "e278beda",
        "outputId": "e8c9e055-1923-4818-e3eb-d5ad96f842ca"
      },
      "outputs": [
        {
          "name": "stderr",
          "output_type": "stream",
          "text": [
            "<ipython-input-13-f4154625d574>:6: MatplotlibDeprecationWarning: The 'nonposy' parameter of __init__() has been renamed 'nonpositive' since Matplotlib 3.3; support for the old name will be dropped two minor releases later.\n",
            "  plt.yscale('log', nonposy = 'clip')\n"
          ]
        },
        {
          "data": {
            "text/plain": [
              "Text(0, 0.5, 'Number of reviews')"
            ]
          },
          "execution_count": 13,
          "metadata": {},
          "output_type": "execute_result"
        },
        {
          "data": {
            "image/png": "[encoded data removed]",
            "text/plain": [
              "<Figure size 1080x720 with 1 Axes>"
            ]
          },
          "metadata": {
            "needs_background": "light"
          },
          "output_type": "display_data"
        }
      ],
      "source": [
        "# 각 리뷰의 단어수 확인, 데이터를 띄어쓰기 기준으로 나누고 하나의 변수로 할댕해 히스토그램 작성\n",
        "train_word_counts = train_data['document'].astype(str).apply(lambda x: len(x.split(' ')))\n",
        "plt.figure(figsize = (15, 10))\n",
        "plt.hist(train_word_counts, bins = 50, facecolor = 'r', label = 'train')\n",
        "plt.title('Log-Histogram of word count in review', fontsize = 15)\n",
        "plt.yscale('log', nonposy = 'clip')\n",
        "plt.legend()\n",
        "plt.xlabel('Number of words', fontsize = 15)\n",
        "plt.ylabel('Number of reviews', fontsize = 15)"
      ]
    },
    {
      "cell_type": "code",
      "execution_count": null,
      "id": "cb1d75b7",
      "metadata": {
        "id": "cb1d75b7",
        "outputId": "66f39f98-067e-404a-b260-ffcfcd34676c"
      },
      "outputs": [
        {
          "name": "stdout",
          "output_type": "stream",
          "text": [
            "리뷰 단어 개수 최대 값: 41\n",
            "리뷰 단어 개수 최소 값: 1\n",
            "리뷰 단어 개수 평균 값: 7.58\n",
            "리뷰 단어 개수 표준편차: 6.51\n",
            "리뷰 단어 개수 중간 값: 6.0\n",
            "리뷰 단어 개수 제 1 사분위: 3.0\n",
            "리뷰 단어 개수 제 3 사분위: 9.0\n"
          ]
        }
      ],
      "source": [
        "# 실제 단어 개수 확인\n",
        "print('리뷰 단어 개수 최대 값: {}'.format(np.max(train_word_counts)))\n",
        "print('리뷰 단어 개수 최소 값: {}'.format(np.min(train_word_counts)))\n",
        "print('리뷰 단어 개수 평균 값: {:.2f}'.format(np.mean(train_word_counts)))\n",
        "print('리뷰 단어 개수 표준편차: {:.2f}'.format(np.std(train_word_counts)))\n",
        "print('리뷰 단어 개수 중간 값: {}'.format(np.median(train_word_counts)))\n",
        "\n",
        "# 사분위의 대한 경우는 0~100 스케일로 되어있음\n",
        "print('리뷰 단어 개수 제 1 사분위: {}'.format(np.percentile(train_word_counts, 25)))\n",
        "print('리뷰 단어 개수 제 3 사분위: {}'.format(np.percentile(train_word_counts, 75)))"
      ]
    },
    {
      "cell_type": "code",
      "execution_count": null,
      "id": "1938d57b",
      "metadata": {
        "id": "1938d57b",
        "outputId": "3ed287b5-9489-4947-c2ad-48c1bcb78b7e"
      },
      "outputs": [
        {
          "name": "stdout",
          "output_type": "stream",
          "text": [
            "물음표가 있는 질문: 8.25%\n",
            "마침표가 있는 질문: 51.76%\n"
          ]
        }
      ],
      "source": [
        "# 특수문자 유무 확인\n",
        "# 물음표가 구두점으로 쓰이는가\n",
        "qmarks = np.mean(train_data['document'].astype(str).apply(lambda x: '?' in x))\n",
        "# 마침표가 쓰이는가\n",
        "fullstop = np.mean(train_data['document'].astype(str).apply(lambda x: '.' in x))\n",
        "\n",
        "print('물음표가 있는 질문: {:.2f}%'.format(qmarks * 100))\n",
        "print('마침표가 있는 질문: {:.2f}%'.format(fullstop * 100))"
      ]
    },
    {
      "cell_type": "code",
      "execution_count": null,
      "id": "7018da13",
      "metadata": {
        "id": "7018da13"
      },
      "outputs": [],
      "source": [
        "# 모듈 임포트\n",
        "import numpy as np\n",
        "import pandas as pd\n",
        "import re\n",
        "import json\n",
        "from konlpy.tag import Okt\n",
        "from tensorflow.python.keras.preprocessing.sequence import pad_sequences\n",
        "from tensorflow.python.keras.preprocessing.text import Tokenizer\n",
        "\n",
        "DATA_IN_PATH = '/Users/hyeon/workspace/'\n",
        "\n",
        "train_data = pd.read_csv(DATA_IN_PATH + 'ratings_train.txt', header = 0, delimiter = '\\t', quoting = 3)"
      ]
    },
    {
      "cell_type": "code",
      "execution_count": null,
      "id": "523a4129",
      "metadata": {
        "id": "523a4129",
        "outputId": "2188022b-fc83-4430-fd84-0ff1059a07bd"
      },
      "outputs": [
        {
          "data": {
            "text/plain": [
              "0                                  아 더빙.. 진짜 짜증나네요 목소리\n",
              "1                    흠...포스터보고 초딩영화줄....오버연기조차 가볍지 않구나\n",
              "2                                    너무재밓었다그래서보는것을추천한다\n",
              "3                        교도소 이야기구먼 ..솔직히 재미는 없다..평점 조정\n",
              "4    사이몬페그의 익살스런 연기가 돋보였던 영화!스파이더맨에서 늙어보이기만 했던 커스틴 ...\n",
              "Name: document, dtype: object"
            ]
          },
          "execution_count": 17,
          "metadata": {},
          "output_type": "execute_result"
        }
      ],
      "source": [
        "# 데이터 일부 확인\n",
        "train_data['document'][:5]"
      ]
    },
    {
      "cell_type": "code",
      "execution_count": null,
      "id": "b8080c7d",
      "metadata": {
        "id": "b8080c7d",
        "outputId": "ee6c0fbb-337c-4505-82e4-e4cb3f2c4f70"
      },
      "outputs": [
        {
          "name": "stdout",
          "output_type": "stream",
          "text": [
            "아 더빙 진짜 짜증나네요 목소리\n"
          ]
        }
      ],
      "source": [
        "# 특수문자 제거 test\n",
        "review_text = re.sub('[^가-힣ㄱ-ㅎㅏ-ㅣ\\\\s]', '', train_data['document'][0])\n",
        "print(review_text)"
      ]
    },
    {
      "cell_type": "code",
      "execution_count": null,
      "id": "90b4f790",
      "metadata": {
        "id": "90b4f790",
        "outputId": "73e7eee0-d293-4105-d631-c6d97f052496"
      },
      "outputs": [
        {
          "name": "stdout",
          "output_type": "stream",
          "text": [
            "['아', '더빙', '진짜', '짜증나다', '목소리']\n"
          ]
        }
      ],
      "source": [
        "# 형태소 분석기 사용 test\n",
        "okt = Okt()\n",
        "review_text = okt.morphs(review_text, stem = True)\n",
        "print(review_text)"
      ]
    },
    {
      "cell_type": "code",
      "execution_count": null,
      "id": "0a1f52e0",
      "metadata": {
        "id": "0a1f52e0",
        "outputId": "2ad2a420-c48d-4095-c225-2adf586b63c8"
      },
      "outputs": [
        {
          "data": {
            "text/plain": [
              "['더빙', '진짜', '짜증나다', '목소리']"
            ]
          },
          "execution_count": 20,
          "metadata": {},
          "output_type": "execute_result"
        }
      ],
      "source": [
        "# 불용어 제거 test, 데이터에 따라 안해도 되는 경우 있음\n",
        "stop_words = set(['은', '는', '이', '가', '하', '아', '것', '들', '의', '있', '되', '수', '보', '주', '등', '한'])\n",
        "clean_review = [token for token in review_text if not token in stop_words]\n",
        "clean_review"
      ]
    },
    {
      "cell_type": "code",
      "execution_count": null,
      "id": "969322f9",
      "metadata": {
        "id": "969322f9"
      },
      "outputs": [],
      "source": [
        "# 하나의 함수로 만든다\n",
        "def preprocessing(reviews, okt, remove_stopwords = False, stop_words = []):\n",
        "    # 함수의 인자 설명\n",
        "    # review: 전처리할 텍스트\n",
        "    # okt: okt객체를 반복적으로 생성하지 않고 미리 생성한 후 인자로 받는다.\n",
        "    # remove_stopwords: 불용어를 제가할지 여부 선택, 기본값은 False\n",
        "    # stop_words: 불용어 사전은 사용자가 직접 입력, 기본값은 빈리스트\n",
        "    \n",
        "    #1. 한글 및 공백을 제외한 문자를 모두 제거\n",
        "    review_text = re.sub('[^가-힣ㄱ-ㅎㅏ-ㅣ\\\\s]', '', review)\n",
        "    \n",
        "    #2. Okt 객체를 활용해 형태소 단위로 나눔\n",
        "    word_review = okt.morphs(review_text, stem = True)\n",
        "    \n",
        "    if remove_stopwords:\n",
        "        # 불용어 제거(선택)\n",
        "        word_review = [token for token in word_review if not token in stop_words]\n",
        "    \n",
        "    return word_review"
      ]
    },
    {
      "cell_type": "code",
      "execution_count": null,
      "id": "8d22135b",
      "metadata": {
        "id": "8d22135b",
        "outputId": "a5de4f5c-97d0-4eee-c106-055d4ba37b54"
      },
      "outputs": [
        {
          "data": {
            "text/plain": [
              "[['더빙', '진짜', '짜증나다', '목소리'],\n",
              " ['흠', '포스터', '보고', '초딩', '영화', '줄', '오버', '연기', '조차', '가볍다', '않다'],\n",
              " ['너', '무재', '밓었', '다그', '래서', '보다', '추천', '다'],\n",
              " ['교도소', '이야기', '구먼', '솔직하다', '재미', '없다', '평점', '조정']]"
            ]
          },
          "execution_count": 22,
          "metadata": {},
          "output_type": "execute_result"
        }
      ],
      "source": [
        "# 실제 학습데이터 전처리 진행\n",
        "stop_words = ['은', '는', '이', '가', '하', '아', '것', '들', '의', '있', '되', '수', '보', '주', '등', '한']\n",
        "okt = Okt()\n",
        "clean_train_review = []\n",
        "\n",
        "for review in train_data['document']:\n",
        "    # 비어있는 데이터에서 멈추지 않도록 문자열인 경우에만 진행\n",
        "    if type(review) == str:\n",
        "        clean_train_review.append(preprocessing(review, okt, remove_stopwords = True, stop_words = stop_words))\n",
        "    # string이 아니면 비어있는 값 추가\n",
        "    else:\n",
        "        clean_train_review.append([])\n",
        "        \n",
        "clean_train_review[:4] # 데이터 확인"
      ]
    },
    {
      "cell_type": "code",
      "execution_count": null,
      "id": "17db2939",
      "metadata": {
        "id": "17db2939"
      },
      "outputs": [],
      "source": [
        "clean_train_df = pd.DataFrame({'review': clean_train_review, 'sentiment': train_data['label']})"
      ]
    },
    {
      "cell_type": "code",
      "execution_count": null,
      "id": "3a60c755",
      "metadata": {
        "id": "3a60c755"
      },
      "outputs": [],
      "source": [
        "tokenizer = Tokenizer()\n",
        "tokenizer.fit_on_texts(clean_train_review)\n",
        "train_sequences = tokenizer.texts_to_sequences(clean_train_review)"
      ]
    },
    {
      "cell_type": "code",
      "execution_count": null,
      "id": "9ea8e53c",
      "metadata": {
        "id": "9ea8e53c",
        "outputId": "59b4ff89-41bd-4bc9-e416-86f430592404"
      },
      "outputs": [
        {
          "name": "stdout",
          "output_type": "stream",
          "text": [
            "[463, 20, 265, 664]\n"
          ]
        }
      ],
      "source": [
        "print(text_sequences[0])"
      ]
    },
    {
      "cell_type": "code",
      "execution_count": null,
      "id": "ca56a1ec",
      "metadata": {
        "id": "ca56a1ec"
      },
      "outputs": [],
      "source": [
        "# 단어 사전 형태, 인덱스 벡터로 형성\n",
        "word_vocab = tokenizer.word_index\n",
        "\n",
        "# 문장 최대 길이, 이전 데이터 분석 시에 단어 평균 개수가 8개 정도였기 때문\n",
        "MAX_SEQUENCE_LENGTH = 8\n",
        "\n",
        "# 패딩 및 학습데이터 벡터화\n",
        "train_inputs = pad_sequences(train_sequences, maxlen = MAX_SEQUENCE_LENGTH, padding = 'post')\n",
        "train_labels = np.array(train_data['label']) #학습데이터의 라벨"
      ]
    },
    {
      "cell_type": "code",
      "execution_count": null,
      "id": "9076d34e",
      "metadata": {
        "id": "9076d34e"
      },
      "outputs": [],
      "source": [
        "# 데이터들을 모델링에 쓸 수 있도록 저장해둔다\n",
        "DATA_IN_PATH = '/Users/hyeon/workspace/'\n",
        "TRAIN_INPUT_DATA = 'nsmc_train_input.npy'\n",
        "TRAIN_LABEL_DATA = 'nsmc_train_label.npy'\n",
        "DATA_CONFIGS = 'data_configs.json'\n",
        "\n",
        "data_configs = {}\n",
        "\n",
        "data_configs['vocab'] = word_vocab\n",
        "data_configs['vocab_size'] = len(word_vocab) + 1 # vocab size 추가\n",
        "\n",
        "import os\n",
        "# 저장하는 디렉토리가 존재하지 않으면 생성\n",
        "if not os.path.exists(DATA_IN_PATH):\n",
        "    os.makedirs(DATA_IN_PATH)\n",
        "\n",
        "# 전처리 된 학습 데이터를 넘파이 형태로 저장\n",
        "np.save(open(DATA_IN_PATH + TRAIN_INPUT_DATA, 'wb'), train_inputs)\n",
        "np.save(open(DATA_IN_PATH + TRAIN_LABEL_DATA, 'wb'), train_labels)\n",
        "\n",
        "# 데이터 사전을 json 형태로 저장\n",
        "json.dump(data_configs, open(DATA_IN_PATH + DATA_CONFIGS, 'w'), ensure_ascii=False)"
      ]
    },
    {
      "cell_type": "code",
      "execution_count": null,
      "id": "a65aa38d",
      "metadata": {
        "id": "a65aa38d",
        "outputId": "c9f25bdb-ad3a-4624-e832-c0ea81d7d490"
      },
      "outputs": [
        {
          "name": "stdout",
          "output_type": "stream",
          "text": [
            "Shape of train data:  (15918, 8)\n"
          ]
        }
      ],
      "source": [
        "train_inputs = pad_sequences(text_sequences, maxlen=MAX_SEQUENCE_LENGTH, padding='post')\n",
        "\n",
        "print('Shape of train data: ', train_inputs.shape)\n"
      ]
    },
    {
      "cell_type": "code",
      "execution_count": null,
      "id": "2ad944e2",
      "metadata": {
        "id": "2ad944e2",
        "outputId": "b483ddfc-c5ef-4973-cdf5-636976bc35a5"
      },
      "outputs": [
        {
          "name": "stdout",
          "output_type": "stream",
          "text": [
            "Shape of label tensor: (150000,)\n"
          ]
        }
      ],
      "source": [
        "train_labels = np.array(train_data['label'])\n",
        "print('Shape of label tensor:', train_labels.shape)"
      ]
    },
    {
      "cell_type": "code",
      "execution_count": null,
      "id": "7e8b86d2",
      "metadata": {
        "id": "7e8b86d2"
      },
      "outputs": [],
      "source": [
        "test_data = pd.read_csv('/Users/hyeon/project/crawling_data/dc_inside/df_DC_soccer.csv')\n",
        "\n",
        "stop_words = ['은', '는', '이', '가', '하', '아', '것', '들', '의', '있', '되', '수', '보', '주', '등', '한']\n",
        "okt = Okt()\n",
        "clean_test_review = []\n",
        "\n",
        "for review in test_data['title']:\n",
        "    # 비어있는 데이터에서 멈추지 않도록 문자열인 경우에만 진행\n",
        "    if type(review) == str:\n",
        "        clean_test_review.append(preprocessing(review, okt, remove_stopwords = True, stop_words = stop_words))\n",
        "    # string이 아니면 비어있는 값 추가\n",
        "    else:\n",
        "        clean_test_review.append([])"
      ]
    },
    {
      "cell_type": "code",
      "execution_count": null,
      "id": "41445e29",
      "metadata": {
        "id": "41445e29",
        "outputId": "98b30a1d-edd7-4510-cd06-0de1e6ea2fc8"
      },
      "outputs": [
        {
          "data": {
            "text/plain": [
              "[['손흥민', '이랑', '비슷하다', '플레이', '스타일', '가지다', '선수', '누구', '있다'],\n",
              " ['프랑스', '대통령', '축구선수', '오다', '마중', '까지', '가다'],\n",
              " ['토마', '개다', '완장', 'ㅂㅅㅅㄲ'],\n",
              " ['구토', '넬', '라는', '연예인', '급', '인', '건', '같다']]"
            ]
          },
          "execution_count": 87,
          "metadata": {},
          "output_type": "execute_result"
        }
      ],
      "source": [
        "clean_test_review[:4] # 데이터 확인"
      ]
    },
    {
      "cell_type": "code",
      "execution_count": null,
      "id": "300f9482",
      "metadata": {
        "id": "300f9482"
      },
      "outputs": [],
      "source": [
        "clean_test_df = pd.DataFrame({'review': clean_test_review, 'id': test_data['date']})\n",
        "test_id = np.array(test_data['date'])"
      ]
    },
    {
      "cell_type": "code",
      "execution_count": null,
      "id": "d61acc17",
      "metadata": {
        "id": "d61acc17",
        "outputId": "0c779ea5-4915-4d98-c734-739663038809"
      },
      "outputs": [
        {
          "data": {
            "text/html": [
              "<div>\n",
              "<style scoped>\n",
              "    .dataframe tbody tr th:only-of-type {\n",
              "        vertical-align: middle;\n",
              "    }\n",
              "\n",
              "    .dataframe tbody tr th {\n",
              "        vertical-align: top;\n",
              "    }\n",
              "\n",
              "    .dataframe thead th {\n",
              "        text-align: right;\n",
              "    }\n",
              "</style>\n",
              "<table border=\"1\" class=\"dataframe\">\n",
              "  <thead>\n",
              "    <tr style=\"text-align: right;\">\n",
              "      <th></th>\n",
              "      <th>review</th>\n",
              "      <th>id</th>\n",
              "    </tr>\n",
              "  </thead>\n",
              "  <tbody>\n",
              "    <tr>\n",
              "      <th>0</th>\n",
              "      <td>[손흥민, 이랑, 비슷하다, 플레이, 스타일, 가지다, 선수, 누구, 있다]</td>\n",
              "      <td>2021.8.9 14:13</td>\n",
              "    </tr>\n",
              "    <tr>\n",
              "      <th>1</th>\n",
              "      <td>[프랑스, 대통령, 축구선수, 오다, 마중, 까지, 가다]</td>\n",
              "      <td>2021.8.9 21:47</td>\n",
              "    </tr>\n",
              "    <tr>\n",
              "      <th>2</th>\n",
              "      <td>[토마, 개다, 완장, ㅂㅅㅅㄲ]</td>\n",
              "      <td>2021.8.9 21:40</td>\n",
              "    </tr>\n",
              "    <tr>\n",
              "      <th>3</th>\n",
              "      <td>[구토, 넬, 라는, 연예인, 급, 인, 건, 같다]</td>\n",
              "      <td>2021.8.9 21:32</td>\n",
              "    </tr>\n",
              "    <tr>\n",
              "      <th>4</th>\n",
              "      <td>[포, 치다, 손흥민, 쓰다, 씨발, 우주, 방위, 대, 쓰다, ㅋㅋㅋㅋㅋㅋㅋ]</td>\n",
              "      <td>2021.8.9 21:24</td>\n",
              "    </tr>\n",
              "    <tr>\n",
              "      <th>...</th>\n",
              "      <td>...</td>\n",
              "      <td>...</td>\n",
              "    </tr>\n",
              "    <tr>\n",
              "      <th>15913</th>\n",
              "      <td>[오늘, 곽, 민선, 방송, 권창훈, 웃, 차다, ㅋㅋㅋㅋ]</td>\n",
              "      <td>2021.8.8 0:54</td>\n",
              "    </tr>\n",
              "    <tr>\n",
              "      <th>15914</th>\n",
              "      <td>[가다, 굴굴스, 냐]</td>\n",
              "      <td>2021.8.8 0:54</td>\n",
              "    </tr>\n",
              "    <tr>\n",
              "      <th>15915</th>\n",
              "      <td>[오늘, 보르도, 첫, 경, 기다, 황의조, 프랑스, 로, 복귀, 하다]</td>\n",
              "      <td>2021.8.8 0:54</td>\n",
              "    </tr>\n",
              "    <tr>\n",
              "      <th>15916</th>\n",
              "      <td>[황의조, 황희, 찬, 을, 비교, 하다, ㅋㅋㅋㅋㅋㅋㅋㅋ]</td>\n",
              "      <td>2021.8.8 0:53</td>\n",
              "    </tr>\n",
              "    <tr>\n",
              "      <th>15917</th>\n",
              "      <td>[그렇다, 토티, 제라드, 바디, 뭔, 데, 새끼]</td>\n",
              "      <td>2021.8.8 0:53</td>\n",
              "    </tr>\n",
              "  </tbody>\n",
              "</table>\n",
              "<p>15918 rows × 2 columns</p>\n",
              "</div>"
            ],
            "text/plain": [
              "                                             review              id\n",
              "0        [손흥민, 이랑, 비슷하다, 플레이, 스타일, 가지다, 선수, 누구, 있다]  2021.8.9 14:13\n",
              "1                  [프랑스, 대통령, 축구선수, 오다, 마중, 까지, 가다]  2021.8.9 21:47\n",
              "2                                [토마, 개다, 완장, ㅂㅅㅅㄲ]  2021.8.9 21:40\n",
              "3                     [구토, 넬, 라는, 연예인, 급, 인, 건, 같다]  2021.8.9 21:32\n",
              "4      [포, 치다, 손흥민, 쓰다, 씨발, 우주, 방위, 대, 쓰다, ㅋㅋㅋㅋㅋㅋㅋ]  2021.8.9 21:24\n",
              "...                                             ...             ...\n",
              "15913             [오늘, 곽, 민선, 방송, 권창훈, 웃, 차다, ㅋㅋㅋㅋ]   2021.8.8 0:54\n",
              "15914                                  [가다, 굴굴스, 냐]   2021.8.8 0:54\n",
              "15915      [오늘, 보르도, 첫, 경, 기다, 황의조, 프랑스, 로, 복귀, 하다]   2021.8.8 0:54\n",
              "15916             [황의조, 황희, 찬, 을, 비교, 하다, ㅋㅋㅋㅋㅋㅋㅋㅋ]   2021.8.8 0:53\n",
              "15917                  [그렇다, 토티, 제라드, 바디, 뭔, 데, 새끼]   2021.8.8 0:53\n",
              "\n",
              "[15918 rows x 2 columns]"
            ]
          },
          "execution_count": 89,
          "metadata": {},
          "output_type": "execute_result"
        }
      ],
      "source": [
        "clean_test_df"
      ]
    },
    {
      "cell_type": "code",
      "execution_count": null,
      "id": "072dfb76",
      "metadata": {
        "id": "072dfb76"
      },
      "outputs": [],
      "source": [
        "text_sequences = tokenizer.texts_to_sequences(clean_test_review)\n",
        "test_inputs = pad_sequences(text_sequences, maxlen=MAX_SEQUENCE_LENGTH, padding='post')"
      ]
    },
    {
      "cell_type": "code",
      "execution_count": null,
      "id": "835b27c5",
      "metadata": {
        "id": "835b27c5",
        "outputId": "610584af-37f3-4702-ec0e-21f63d85de2f"
      },
      "outputs": [
        {
          "data": {
            "text/plain": [
              "array([[  285,   598,  4232, ...,  2659,   549,    10],\n",
              "       [  860,  2073, 15305, ...,    65,    76,     0],\n",
              "       [22937,  1016, 24352, ...,     0,     0,     0],\n",
              "       ...,\n",
              "       [  450,   777,  1540, ...,    22,  5360,     3],\n",
              "       [ 2347,     5,   608, ...,     0,     0,     0],\n",
              "       [   78,  6153,  6576, ...,   821,     0,     0]], dtype=int32)"
            ]
          },
          "execution_count": 91,
          "metadata": {},
          "output_type": "execute_result"
        }
      ],
      "source": [
        "test_inputs"
      ]
    },
    {
      "cell_type": "code",
      "execution_count": null,
      "id": "d5ed5c15",
      "metadata": {
        "id": "d5ed5c15"
      },
      "outputs": [],
      "source": [
        "TEST_INPUT_DATA = 'test_input.npy'\n",
        "TEST_CLEAN_DATA = 'test_clean.csv'\n",
        "TEST_ID_DATA = 'test_id.npy'\n",
        "\n",
        "np.save(open(DATA_IN_PATH + TEST_INPUT_DATA, 'wb'), test_inputs)\n",
        "np.save(open(DATA_IN_PATH + TEST_ID_DATA, 'wb'), test_id)\n",
        "clean_test_df.to_csv(DATA_IN_PATH + TEST_CLEAN_DATA, index = False)"
      ]
    },
    {
      "cell_type": "code",
      "execution_count": null,
      "id": "5bb773ea",
      "metadata": {
        "id": "5bb773ea"
      },
      "outputs": [],
      "source": [
        "import tensorflow as tf\n",
        "from tensorflow.keras.preprocessing.sequence import pad_sequences\n",
        "from tensorflow.keras.callbacks import EarlyStopping, ModelCheckpoint\n",
        "from tensorflow.keras import layers\n",
        "\n",
        "import numpy as np\n",
        "import pandas as pd\n",
        "\n",
        "import matplotlib.pyplot as plt\n",
        "\n",
        "import os\n",
        "import json\n",
        "\n",
        "from tqdm import tqdm"
      ]
    },
    {
      "cell_type": "code",
      "execution_count": null,
      "id": "d5f5858f",
      "metadata": {
        "id": "d5f5858f"
      },
      "outputs": [],
      "source": [
        "def plot_graphs(history, string):\n",
        "    plt.plot(history.history[string])\n",
        "    plt.plot(history.history['val_'+string], '')\n",
        "    plt.xlabel(\"Epochs\")\n",
        "    plt.ylabel(string)\n",
        "    plt.legend([string, 'val_'+string])\n",
        "    plt.show()"
      ]
    },
    {
      "cell_type": "code",
      "execution_count": null,
      "id": "d312b068",
      "metadata": {
        "id": "d312b068"
      },
      "outputs": [],
      "source": [
        "DATA_IN_PATH = '/Users/hyeon/workspace/'\n",
        "DATA_OUT_PATH = '/Users/hyeon/workspace/'\n",
        "TRAIN_INPUT_DATA = 'train_input.npy'\n",
        "TRAIN_LABEL_DATA = 'train_label.npy'\n",
        "DATA_CONFIGS = 'data_configs.json'"
      ]
    },
    {
      "cell_type": "code",
      "execution_count": null,
      "id": "aad9f2c0",
      "metadata": {
        "id": "aad9f2c0"
      },
      "outputs": [],
      "source": [
        "train_input = np.load(open(DATA_IN_PATH + TRAIN_INPUT_DATA, 'rb'))\n",
        "train_label = np.load(open(DATA_IN_PATH + TRAIN_LABEL_DATA, 'rb'))\n",
        "prepro_configs = prepro_configs = json.load(open(DATA_IN_PATH + DATA_CONFIGS, 'r'))\n"
      ]
    },
    {
      "cell_type": "code",
      "execution_count": null,
      "id": "d936574f",
      "metadata": {
        "id": "d936574f"
      },
      "outputs": [],
      "source": [
        "model_name = 'cnn_classifier_kr'\n",
        "BATCH_SIZE = 512\n",
        "NUM_EPOCHS = 10\n",
        "VALID_SPLIT = 0.1\n",
        "MAX_LEN = train_input.shape[1]\n",
        "\n",
        "kargs = {'model_name': model_name,\n",
        "        'vocab_size': prepro_configs['vocab_size'],\n",
        "        'embedding_size': 128,\n",
        "        'num_filters': 100,\n",
        "        'dropout_rate': 0.5,\n",
        "        'hidden_dimension': 250,\n",
        "        'output_dimension':1}"
      ]
    },
    {
      "cell_type": "code",
      "execution_count": null,
      "id": "a2db111e",
      "metadata": {
        "id": "a2db111e"
      },
      "outputs": [],
      "source": [
        "class CNNClassifier(tf.keras.Model):\n",
        "    \n",
        "    def __init__(self, **kargs):\n",
        "        super(CNNClassifier, self).__init__(name=kargs['model_name'])\n",
        "        self.embedding = layers.Embedding(input_dim=kargs['vocab_size'],\n",
        "                                     output_dim=kargs['embedding_size'])\n",
        "        self.conv_list = [layers.Conv1D(filters=kargs['num_filters'],\n",
        "                                   kernel_size=kernel_size,\n",
        "                                   padding='valid',\n",
        "                                   activation=tf.keras.activations.relu,\n",
        "                                   kernel_constraint=tf.keras.constraints.MaxNorm(max_value=3.))\n",
        "                     for kernel_size in [3,4,5]]\n",
        "        self.pooling = layers.GlobalMaxPooling1D()\n",
        "        self.dropout = layers.Dropout(kargs['dropout_rate'])\n",
        "        self.fc1 = layers.Dense(units=kargs['hidden_dimension'],\n",
        "                           activation=tf.keras.activations.relu,\n",
        "                           kernel_constraint=tf.keras.constraints.MaxNorm(max_value=3.))\n",
        "        self.fc2 = layers.Dense(units=kargs['output_dimension'],\n",
        "                           activation=tf.keras.activations.sigmoid,\n",
        "                           kernel_constraint=tf.keras.constraints.MaxNorm(max_value=3.))\n",
        "    \n",
        "    def call(self, x):\n",
        "        x = self.embedding(x)\n",
        "        x = self.dropout(x)\n",
        "        x = tf.concat([self.pooling(conv(x)) for conv in self.conv_list], axis=-1)\n",
        "        x = self.fc1(x)\n",
        "        x = self.fc2(x)\n",
        "        \n",
        "        return x"
      ]
    },
    {
      "cell_type": "code",
      "execution_count": null,
      "id": "dad0583f",
      "metadata": {
        "id": "dad0583f"
      },
      "outputs": [],
      "source": [
        "model = CNNClassifier(**kargs)\n",
        "model.compile(optimizer=tf.keras.optimizers.Adam(),\n",
        "              loss=tf.keras.losses.BinaryCrossentropy(),\n",
        "              metrics=[tf.keras.metrics.BinaryAccuracy(name='accuracy')])"
      ]
    },
    {
      "cell_type": "code",
      "execution_count": null,
      "id": "b796a15d",
      "metadata": {
        "id": "b796a15d",
        "outputId": "d1f51af3-94a8-4633-d39c-47af9a9f4e06"
      },
      "outputs": [
        {
          "name": "stdout",
          "output_type": "stream",
          "text": [
            "/Users/hyeon/workspace/cnn_classifier_kr -- Folder already exists \n",
            "\n"
          ]
        }
      ],
      "source": [
        "# overfitting을 막기 위한 ealrystop 추가\n",
        "earlystop_callback = EarlyStopping(monitor='val_accuracy', min_delta=0.0001,patience=2)\n",
        "# min_delta: the threshold that triggers the termination (acc should at least improve 0.0001)\n",
        "# patience: no improvment epochs (patience = 1, 1번 이상 상승이 없으면 종료)\\\n",
        "\n",
        "checkpoint_path = DATA_OUT_PATH + model_name + '/weights.h5'\n",
        "checkpoint_dir = os.path.dirname(checkpoint_path)\n",
        "\n",
        "# Create path if exists\n",
        "if os.path.exists(checkpoint_dir):\n",
        "    print(\"{} -- Folder already exists \\n\".format(checkpoint_dir))\n",
        "else:\n",
        "    os.makedirs(checkpoint_dir, exist_ok=True)\n",
        "    print(\"{} -- Folder create complete \\n\".format(checkpoint_dir))\n",
        "    \n",
        "\n",
        "cp_callback = ModelCheckpoint(\n",
        "    checkpoint_path, monitor='val_accuracy', verbose=1, save_best_only=True, save_weights_only=True)"
      ]
    },
    {
      "cell_type": "code",
      "execution_count": null,
      "id": "8597c85c",
      "metadata": {
        "id": "8597c85c",
        "outputId": "32a46f7f-91da-4cea-c91b-d271ee1aa206"
      },
      "outputs": [
        {
          "name": "stdout",
          "output_type": "stream",
          "text": [
            "Epoch 1/10\n",
            "264/264 [==============================] - 39s 143ms/step - loss: 0.4573 - accuracy: 0.7767 - val_loss: 0.3943 - val_accuracy: 0.8207\n",
            "\n",
            "Epoch 00001: val_accuracy improved from -inf to 0.82073, saving model to /Users/hyeon/workspace/cnn_classifier_kr/weights.h5\n",
            "Epoch 2/10\n",
            "264/264 [==============================] - 39s 147ms/step - loss: 0.3510 - accuracy: 0.8462 - val_loss: 0.3826 - val_accuracy: 0.8293\n",
            "\n",
            "Epoch 00002: val_accuracy improved from 0.82073 to 0.82927, saving model to /Users/hyeon/workspace/cnn_classifier_kr/weights.h5\n",
            "Epoch 3/10\n",
            "264/264 [==============================] - 41s 157ms/step - loss: 0.3003 - accuracy: 0.8736 - val_loss: 0.3951 - val_accuracy: 0.8234\n",
            "\n",
            "Epoch 00003: val_accuracy did not improve from 0.82927\n",
            "Epoch 4/10\n",
            "264/264 [==============================] - 39s 148ms/step - loss: 0.2552 - accuracy: 0.8947 - val_loss: 0.4247 - val_accuracy: 0.8190\n",
            "\n",
            "Epoch 00004: val_accuracy did not improve from 0.82927\n"
          ]
        }
      ],
      "source": [
        "history = model.fit(train_input, train_label, batch_size=BATCH_SIZE, epochs=NUM_EPOCHS,\n",
        "                    validation_split=VALID_SPLIT, callbacks=[earlystop_callback, cp_callback])"
      ]
    },
    {
      "cell_type": "code",
      "execution_count": null,
      "id": "c26cce1f",
      "metadata": {
        "id": "c26cce1f",
        "outputId": "bbe78991-2bd0-46b5-e566-6c4608bd2fb2"
      },
      "outputs": [
        {
          "data": {
            "image/png": "[encoded data removed]",
            "text/plain": [
              "<Figure size 432x288 with 1 Axes>"
            ]
          },
          "metadata": {
            "needs_background": "light"
          },
          "output_type": "display_data"
        }
      ],
      "source": [
        "plot_graphs(history, 'accuracy')\n"
      ]
    },
    {
      "cell_type": "code",
      "execution_count": null,
      "id": "4c248297",
      "metadata": {
        "id": "4c248297",
        "outputId": "b689020c-4a58-474e-eaa7-696b2f61fa4e"
      },
      "outputs": [
        {
          "data": {
            "image/png": "[encoded data removed]",
            "text/plain": [
              "<Figure size 432x288 with 1 Axes>"
            ]
          },
          "metadata": {
            "needs_background": "light"
          },
          "output_type": "display_data"
        }
      ],
      "source": [
        "plot_graphs(history, 'loss')\n"
      ]
    },
    {
      "cell_type": "code",
      "execution_count": null,
      "id": "2cb4732a",
      "metadata": {
        "id": "2cb4732a"
      },
      "outputs": [],
      "source": [
        "DATA_OUT_PATH = '/Users/hyeon/workspace/'\n",
        "TEST_INPUT_DATA = 'test_input.npy'\n",
        "TEST_ID_DATA = 'test_id.npy'\n",
        "\n",
        "test_input = np.load(open(DATA_IN_PATH + TEST_INPUT_DATA, 'rb'))\n",
        "test_input = pad_sequences(test_input, maxlen=test_input.shape[1])"
      ]
    },
    {
      "cell_type": "code",
      "execution_count": null,
      "id": "51cf7cfa",
      "metadata": {
        "id": "51cf7cfa",
        "outputId": "404d4870-0c48-478e-8a9a-709f7db08184"
      },
      "outputs": [
        {
          "data": {
            "text/plain": [
              "'test_input.npy'"
            ]
          },
          "execution_count": 110,
          "metadata": {},
          "output_type": "execute_result"
        }
      ],
      "source": [
        "TEST_INPUT_DATA"
      ]
    },
    {
      "cell_type": "code",
      "execution_count": null,
      "id": "e7eba669",
      "metadata": {
        "id": "e7eba669"
      },
      "outputs": [],
      "source": [
        "SAVE_FILE_NM = 'weights.h5'\n",
        "\n",
        "model.load_weights(os.path.join(DATA_OUT_PATH, model_name, SAVE_FILE_NM))"
      ]
    },
    {
      "cell_type": "code",
      "execution_count": null,
      "id": "3e850fae",
      "metadata": {
        "id": "3e850fae"
      },
      "outputs": [],
      "source": [
        "predictions = model.predict(test_input, batch_size=BATCH_SIZE)\n",
        "predictions = predictions.squeeze(-1)"
      ]
    },
    {
      "cell_type": "code",
      "execution_count": null,
      "id": "22792e71",
      "metadata": {
        "id": "22792e71"
      },
      "outputs": [],
      "source": [
        "test_id = np.load(open(DATA_IN_PATH + TEST_ID_DATA, 'rb'), allow_pickle=True)\n",
        "\n",
        "if not os.path.exists(DATA_OUT_PATH):\n",
        "    os.makedirs(DATA_OUT_PATH)\n",
        "\n",
        "output = pd.DataFrame(data={\"id\": list(test_id), 'title': clean_test_df['review'],\"sentiment\": list(predictions)} )\n",
        "output.to_csv(DATA_OUT_PATH + 'DC_soccer_result_cnn.csv', index = False, encoding = 'utf-8-sig')"
      ]
    },
    {
      "cell_type": "code",
      "execution_count": null,
      "id": "c5af0f23",
      "metadata": {
        "id": "c5af0f23"
      },
      "outputs": [],
      "source": []
    }
  ],
  "metadata": {
    "kernelspec": {
      "display_name": "Python 3",
      "language": "python",
      "name": "python3"
    },
    "language_info": {
      "codemirror_mode": {
        "name": "ipython",
        "version": 3
      },
      "file_extension": ".py",
      "mimetype": "text/x-python",
      "name": "python",
      "nbconvert_exporter": "python",
      "pygments_lexer": "ipython3",
      "version": "3.8.8"
    },
    "colab": {
      "provenance": [],
      "include_colab_link": true
    }
  },
  "nbformat": 4,
  "nbformat_minor": 5
}